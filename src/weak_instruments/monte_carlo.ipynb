{
 "cells": [
  {
   "cell_type": "markdown",
   "id": "18d3099a",
   "metadata": {},
   "source": [
    "# Creating the data to test in STATA and Python"
   ]
  },
  {
   "cell_type": "code",
   "execution_count": 2,
   "id": "2cbb33d9",
   "metadata": {},
   "outputs": [
    {
     "name": "stderr",
     "output_type": "stream",
     "text": [
      "Normally this estimator is used when Z has more columns than X. In this case Z has 1 columns and X has 1 columns.\n"
     ]
    },
    {
     "ename": "ValueError",
     "evalue": "matmul: Input operand 1 has a mismatch in its core dimension 0, with gufunc signature (n?,k),(k,m?)->(n?,m?) (size 1000 is different from 2)",
     "output_type": "error",
     "traceback": [
      "\u001b[31m---------------------------------------------------------------------------\u001b[39m",
      "\u001b[31mValueError\u001b[39m                                Traceback (most recent call last)",
      "\u001b[36mCell\u001b[39m\u001b[36m \u001b[39m\u001b[32mIn[2]\u001b[39m\u001b[32m, line 46\u001b[39m\n\u001b[32m     44\u001b[39m jive1 = JIVE1(Y,X[:,\u001b[32m1\u001b[39m],Z[:,\u001b[32m1\u001b[39m],talk=\u001b[38;5;28;01mFalse\u001b[39;00m)\n\u001b[32m     45\u001b[39m jive2 = JIVE2(Y,X[:,\u001b[32m1\u001b[39m],Z[:,\u001b[32m1\u001b[39m],talk=\u001b[38;5;28;01mFalse\u001b[39;00m)\n\u001b[32m---> \u001b[39m\u001b[32m46\u001b[39m tsls = \u001b[43mTSLS\u001b[49m\u001b[43m(\u001b[49m\u001b[43mY\u001b[49m\u001b[43m,\u001b[49m\u001b[43mX\u001b[49m\u001b[43m,\u001b[49m\u001b[43mZ\u001b[49m\u001b[43m)\u001b[49m\n\u001b[32m     48\u001b[39m \u001b[38;5;66;03m# Combine matrices into a single DataFrame\u001b[39;00m\n\u001b[32m     49\u001b[39m df = pd.DataFrame({\n\u001b[32m     50\u001b[39m     \u001b[33m\"\u001b[39m\u001b[33mY\u001b[39m\u001b[33m\"\u001b[39m: Y,  \u001b[38;5;66;03m# Outcome vector\u001b[39;00m\n\u001b[32m     51\u001b[39m     **{\u001b[33mf\u001b[39m\u001b[33m\"\u001b[39m\u001b[33mX\u001b[39m\u001b[38;5;132;01m{\u001b[39;00mi\u001b[38;5;132;01m}\u001b[39;00m\u001b[33m\"\u001b[39m: X[:, i] \u001b[38;5;28;01mfor\u001b[39;00m i \u001b[38;5;129;01min\u001b[39;00m \u001b[38;5;28mrange\u001b[39m(X.shape[\u001b[32m1\u001b[39m])},  \u001b[38;5;66;03m# Endogenous variables\u001b[39;00m\n\u001b[32m     52\u001b[39m     **{\u001b[33mf\u001b[39m\u001b[33m\"\u001b[39m\u001b[33mZ\u001b[39m\u001b[38;5;132;01m{\u001b[39;00mi\u001b[38;5;132;01m}\u001b[39;00m\u001b[33m\"\u001b[39m: Z[:, i] \u001b[38;5;28;01mfor\u001b[39;00m i \u001b[38;5;129;01min\u001b[39;00m \u001b[38;5;28mrange\u001b[39m(Z.shape[\u001b[32m1\u001b[39m])}   \u001b[38;5;66;03m# Instrumental variables\u001b[39;00m\n\u001b[32m     53\u001b[39m })\n",
      "\u001b[36mFile \u001b[39m\u001b[32m~/weak_instruments/src/weak_instruments/tsls.py:60\u001b[39m, in \u001b[36mTSLS\u001b[39m\u001b[34m(Y, X, Z)\u001b[39m\n\u001b[32m     57\u001b[39m z_hat = np.linalg.inv(Z.T @ Z) @ (Z.T @ X)\n\u001b[32m     59\u001b[39m \u001b[38;5;66;03m# Get the beta hats\u001b[39;00m\n\u001b[32m---> \u001b[39m\u001b[32m60\u001b[39m beta_hat = np.linalg.inv(z_hat.T @ z_hat) @ (\u001b[43mz_hat\u001b[49m\u001b[43m.\u001b[49m\u001b[43mT\u001b[49m\u001b[43m \u001b[49m\u001b[43m@\u001b[49m\u001b[43m \u001b[49m\u001b[43mY\u001b[49m)\n\u001b[32m     62\u001b[39m \u001b[38;5;66;03m# Return the result\u001b[39;00m\n\u001b[32m     63\u001b[39m \u001b[38;5;28;01mreturn\u001b[39;00m TSLSResult(beta=beta_hat)\n",
      "\u001b[31mValueError\u001b[39m: matmul: Input operand 1 has a mismatch in its core dimension 0, with gufunc signature (n?,k),(k,m?)->(n?,m?) (size 1000 is different from 2)"
     ]
    }
   ],
   "source": [
    "import numpy as np\n",
    "import pandas as pd\n",
    "from jive1 import *\n",
    "from jive2 import *\n",
    "from tsls import * \n",
    "#Pick a vector length:\n",
    "n = 1000\n",
    "\n",
    "#Getting our Z's and making a Z matrix:\n",
    "Z = np.random.randn(n, 1)\n",
    "column_of_ones = np.ones((Z.shape[0], 1))\n",
    "Z = np.hstack((column_of_ones, Z))\n",
    "\n",
    "#Parameter vectors:\n",
    "α = np.array([1, 1])\n",
    "β = np.array([1,2])\n",
    "\n",
    "#Error terms:\n",
    "e1 = np.random.normal(0,5,n)\n",
    "e2 = np.random.normal(0,5,n)\n",
    "δ = np.random.normal(0,1)\n",
    "ε = 5*e1 - 5*e2 + δ\n",
    "\n",
    "#Making our endogenous variable:\n",
    "x = np.dot(Z,α) + .2*e1\n",
    "X = np.column_stack((column_of_ones, x))\n",
    "\n",
    "#Outcome vector:\n",
    "Y = np.dot(X,β) + ε\n",
    "\n",
    "#OLS benchmark:\n",
    "bhat_ols = np.dot(np.linalg.inv(np.dot(X.T,X)), np.dot(X.T, Y))\n",
    "\n",
    "#2sls comparison:\n",
    "Zt_Z = np.dot(Z.T, Z)\n",
    "Zt_Z_inv = np.linalg.inv(Zt_Z)\n",
    "pz = np.dot(np.dot(Z, Zt_Z_inv), Z.T)\n",
    "proj_x = np.dot(pz, X)\n",
    "first = np.linalg.inv(np.dot(proj_x.T, X))\n",
    "second = np.dot(proj_x.T, Y)\n",
    "bhat_2sls = np.dot(first, second)\n",
    "\n",
    "\n",
    "jive1 = JIVE1(Y,X[:,1],Z[:,1],talk=False)\n",
    "jive2 = JIVE2(Y,X[:,1],Z[:,1],talk=False)\n",
    "tsls = TSLS(Y,X,Z)\n",
    "\n",
    "# Combine matrices into a single DataFrame\n",
    "df = pd.DataFrame({\n",
    "    \"Y\": Y,  # Outcome vector\n",
    "    **{f\"X{i}\": X[:, i] for i in range(X.shape[1])},  # Endogenous variables\n",
    "    **{f\"Z{i}\": Z[:, i] for i in range(Z.shape[1])}   # Instrumental variables\n",
    "})\n",
    "\n",
    "# Save the DataFrame to a CSV file\n",
    "df.to_csv('data.csv', index=False)\n",
    "\n",
    "# Print the DataFrame to verify\n",
    "#print(df)\n",
    "\n",
    "\n",
    "#Compare them:\n",
    "print(\"OLS:\", bhat_ols[1])\n",
    "print(\"2SLS:\", bhat_2sls[1])\n",
    "print(\"Jive 1:\", jive1['beta'])\n",
    "print(\"Jive 2:\",jive2['beta'])"
   ]
  }
 ],
 "metadata": {
  "kernelspec": {
   "display_name": "myenv",
   "language": "python",
   "name": "python3"
  },
  "language_info": {
   "codemirror_mode": {
    "name": "ipython",
    "version": 3
   },
   "file_extension": ".py",
   "mimetype": "text/x-python",
   "name": "python",
   "nbconvert_exporter": "python",
   "pygments_lexer": "ipython3",
   "version": "3.13.3"
  }
 },
 "nbformat": 4,
 "nbformat_minor": 5
}
