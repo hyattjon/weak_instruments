{
 "cells": [
  {
   "cell_type": "markdown",
   "id": "18d3099a",
   "metadata": {},
   "source": [
    "# Creating the data to test in STATA and Python"
   ]
  },
  {
   "cell_type": "code",
   "execution_count": 1,
   "id": "2a4609d3",
   "metadata": {},
   "outputs": [
    {
     "name": "stdout",
     "output_type": "stream",
     "text": [
      "OLS: 9.424714079238187\n",
      "2SLS 1.5494404592025088\n"
     ]
    },
    {
     "ename": "LinAlgError",
     "evalue": "Singular matrix",
     "output_type": "error",
     "traceback": [
      "\u001b[31m---------------------------------------------------------------------------\u001b[39m",
      "\u001b[31mLinAlgError\u001b[39m                               Traceback (most recent call last)",
      "\u001b[36mCell\u001b[39m\u001b[36m \u001b[39m\u001b[32mIn[1]\u001b[39m\u001b[32m, line 48\u001b[39m\n\u001b[32m     45\u001b[39m \u001b[38;5;28mprint\u001b[39m(\u001b[33m\"\u001b[39m\u001b[33mOLS:\u001b[39m\u001b[33m\"\u001b[39m, bhat_ols[\u001b[32m1\u001b[39m])\n\u001b[32m     46\u001b[39m \u001b[38;5;28mprint\u001b[39m(\u001b[33m\"\u001b[39m\u001b[33m2SLS\u001b[39m\u001b[33m\"\u001b[39m, bhat_2sls[\u001b[32m1\u001b[39m])\n\u001b[32m---> \u001b[39m\u001b[32m48\u001b[39m jive1 = \u001b[43mJIVE1\u001b[49m\u001b[43m(\u001b[49m\u001b[43my\u001b[49m\u001b[43m,\u001b[49m\u001b[43mX\u001b[49m\u001b[43m,\u001b[49m\u001b[43mZ\u001b[49m\u001b[43m)\u001b[49m\n\u001b[32m     50\u001b[39m \u001b[38;5;28mprint\u001b[39m(jive1[\u001b[33m'\u001b[39m\u001b[33mbeta\u001b[39m\u001b[33m'\u001b[39m])\n",
      "\u001b[36mFile \u001b[39m\u001b[32m~/weak_instruments/src/weak_instruments/jive1.py:137\u001b[39m, in \u001b[36mJIVE1\u001b[39m\u001b[34m(Y, X, Z, talk)\u001b[39m\n\u001b[32m    133\u001b[39m Z = np.hstack((ones, Z))\n\u001b[32m    135\u001b[39m \u001b[38;5;66;03m# First pass to get fitted values and leverage\u001b[39;00m\n\u001b[32m    136\u001b[39m \u001b[38;5;66;03m#P = Z @ np.linalg.inv(Z.T @ Z) @ Z.T\u001b[39;00m\n\u001b[32m--> \u001b[39m\u001b[32m137\u001b[39m fit = Z @ \u001b[43mnp\u001b[49m\u001b[43m.\u001b[49m\u001b[43mlinalg\u001b[49m\u001b[43m.\u001b[49m\u001b[43minv\u001b[49m\u001b[43m(\u001b[49m\u001b[43mZ\u001b[49m\u001b[43m.\u001b[49m\u001b[43mT\u001b[49m\u001b[43m \u001b[49m\u001b[43m@\u001b[49m\u001b[43m \u001b[49m\u001b[43mZ\u001b[49m\u001b[43m)\u001b[49m @ Z.T @ X \u001b[38;5;66;03m# P @ X\u001b[39;00m\n\u001b[32m    138\u001b[39m logger.debug(\u001b[33mf\u001b[39m\u001b[33m\"\u001b[39m\u001b[33mFitted values obtained.\u001b[39m\u001b[38;5;130;01m\\n\u001b[39;00m\u001b[33m\"\u001b[39m)\n\u001b[32m    140\u001b[39m \u001b[38;5;66;03m# Get the main diagonal from the projection matrix\u001b[39;00m\n",
      "\u001b[36mFile \u001b[39m\u001b[32m~/myenv/lib/python3.13/site-packages/numpy/linalg/_linalg.py:609\u001b[39m, in \u001b[36minv\u001b[39m\u001b[34m(a)\u001b[39m\n\u001b[32m    606\u001b[39m signature = \u001b[33m'\u001b[39m\u001b[33mD->D\u001b[39m\u001b[33m'\u001b[39m \u001b[38;5;28;01mif\u001b[39;00m isComplexType(t) \u001b[38;5;28;01melse\u001b[39;00m \u001b[33m'\u001b[39m\u001b[33md->d\u001b[39m\u001b[33m'\u001b[39m\n\u001b[32m    607\u001b[39m \u001b[38;5;28;01mwith\u001b[39;00m errstate(call=_raise_linalgerror_singular, invalid=\u001b[33m'\u001b[39m\u001b[33mcall\u001b[39m\u001b[33m'\u001b[39m,\n\u001b[32m    608\u001b[39m               over=\u001b[33m'\u001b[39m\u001b[33mignore\u001b[39m\u001b[33m'\u001b[39m, divide=\u001b[33m'\u001b[39m\u001b[33mignore\u001b[39m\u001b[33m'\u001b[39m, under=\u001b[33m'\u001b[39m\u001b[33mignore\u001b[39m\u001b[33m'\u001b[39m):\n\u001b[32m--> \u001b[39m\u001b[32m609\u001b[39m     ainv = \u001b[43m_umath_linalg\u001b[49m\u001b[43m.\u001b[49m\u001b[43minv\u001b[49m\u001b[43m(\u001b[49m\u001b[43ma\u001b[49m\u001b[43m,\u001b[49m\u001b[43m \u001b[49m\u001b[43msignature\u001b[49m\u001b[43m=\u001b[49m\u001b[43msignature\u001b[49m\u001b[43m)\u001b[49m\n\u001b[32m    610\u001b[39m \u001b[38;5;28;01mreturn\u001b[39;00m wrap(ainv.astype(result_t, copy=\u001b[38;5;28;01mFalse\u001b[39;00m))\n",
      "\u001b[36mFile \u001b[39m\u001b[32m~/myenv/lib/python3.13/site-packages/numpy/linalg/_linalg.py:104\u001b[39m, in \u001b[36m_raise_linalgerror_singular\u001b[39m\u001b[34m(err, flag)\u001b[39m\n\u001b[32m    103\u001b[39m \u001b[38;5;28;01mdef\u001b[39;00m\u001b[38;5;250m \u001b[39m\u001b[34m_raise_linalgerror_singular\u001b[39m(err, flag):\n\u001b[32m--> \u001b[39m\u001b[32m104\u001b[39m     \u001b[38;5;28;01mraise\u001b[39;00m LinAlgError(\u001b[33m\"\u001b[39m\u001b[33mSingular matrix\u001b[39m\u001b[33m\"\u001b[39m)\n",
      "\u001b[31mLinAlgError\u001b[39m: Singular matrix"
     ]
    }
   ],
   "source": [
    "import numpy as np\n",
    "\n",
    "from jive1 import *\n",
    "\n",
    "#Pick a vector length:\n",
    "n = 1000\n",
    "\n",
    "#Getting our Z's and making a Z matrix:\n",
    "z1 = np.random.randn(n, 1)\n",
    "z2 = np.random.randn(n, 1)\n",
    "Z = np.hstack((z1, z2))\n",
    "column_of_ones = np.ones((Z.shape[0], 1))\n",
    "Z = np.hstack((column_of_ones, Z))\n",
    "\n",
    "#Parameter vectors:\n",
    "α = np.array([1, 1, 1])\n",
    "β = np.array([1,2])\n",
    "\n",
    "#Error terms:\n",
    "e1 = np.random.normal(0,5,n)\n",
    "e2 = np.random.normal(0,5,n)\n",
    "δ = np.random.normal(0,1)\n",
    "ε = 5*e1 - 5*e2 + δ\n",
    "\n",
    "#Making our endogenous variable:\n",
    "x = np.dot(Z,α) + .2*e1\n",
    "X = np.column_stack((column_of_ones, x))\n",
    "\n",
    "#Outcome vector:\n",
    "y = np.dot(X,β) + ε # I changed this to capital X because I was getting shape errors\n",
    "\n",
    "#OLS benchmark:\n",
    "bhat_ols = np.dot(np.linalg.inv(np.dot(X.T,X)), np.dot(X.T, y))\n",
    "\n",
    "#2sls comparison:\n",
    "Zt_Z = np.dot(Z.T, Z)\n",
    "Zt_Z_inv = np.linalg.inv(Zt_Z)\n",
    "pz = np.dot(np.dot(Z, Zt_Z_inv), Z.T)\n",
    "proj_x = np.dot(pz, X)\n",
    "first = np.linalg.inv(np.dot(proj_x.T, X))\n",
    "second = np.dot(proj_x.T, y)\n",
    "bhat_2sls = np.dot(first, second)\n",
    "\n",
    "#Compare them:\n",
    "print(\"OLS:\", bhat_ols[1])\n",
    "print(\"2SLS\", bhat_2sls[1])\n",
    "\n",
    "jive1 = JIVE1(y,X,Z)\n",
    "\n",
    "print(jive1['beta'])"
   ]
  }
 ],
 "metadata": {
  "kernelspec": {
   "display_name": "myenv",
   "language": "python",
   "name": "python3"
  },
  "language_info": {
   "codemirror_mode": {
    "name": "ipython",
    "version": 3
   },
   "file_extension": ".py",
   "mimetype": "text/x-python",
   "name": "python",
   "nbconvert_exporter": "python",
   "pygments_lexer": "ipython3",
   "version": "3.13.3"
  }
 },
 "nbformat": 4,
 "nbformat_minor": 5
}
