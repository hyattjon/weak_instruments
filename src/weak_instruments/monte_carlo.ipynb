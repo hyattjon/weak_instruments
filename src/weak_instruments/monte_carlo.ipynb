{
 "cells": [
  {
   "cell_type": "markdown",
   "id": "18d3099a",
   "metadata": {},
   "source": [
    "# Creating the data to test in STATA and Python"
   ]
  },
  {
   "cell_type": "code",
   "execution_count": 27,
   "id": "2cbb33d9",
   "metadata": {},
   "outputs": [
    {
     "name": "stderr",
     "output_type": "stream",
     "text": [
      "Normally this estimator is used when Z has more columns than X. In this case Z has 1 columns and X has 1 columns.\n"
     ]
    },
    {
     "name": "stdout",
     "output_type": "stream",
     "text": [
      "OLS: 14.483033142970358\n",
      "2SLS: 1.1778183412424654\n",
      "Jive 1: [-0.85609568  1.1227555 ]\n",
      "Jive 2: [-0.85841244  1.12509575]\n"
     ]
    }
   ],
   "source": [
    "import numpy as np\n",
    "import pandas as pd\n",
    "from jive1 import *\n",
    "from jive2 import *\n",
    "\n",
    "#Pick a vector length:\n",
    "n = 1000\n",
    "\n",
    "#Getting our Z's and making a Z matrix:\n",
    "Z = np.random.randn(n, 1)\n",
    "column_of_ones = np.ones((Z.shape[0], 1))\n",
    "Z = np.hstack((column_of_ones, Z))\n",
    "\n",
    "#Parameter vectors:\n",
    "α = np.array([1, 1])\n",
    "β = np.array([1,2])\n",
    "\n",
    "#Error terms:\n",
    "e1 = np.random.normal(0,5,n)\n",
    "e2 = np.random.normal(0,5,n)\n",
    "δ = np.random.normal(0,1)\n",
    "ε = 5*e1 - 5*e2 + δ\n",
    "\n",
    "#Making our endogenous variable:\n",
    "x = np.dot(Z,α) + .2*e1\n",
    "X = np.column_stack((column_of_ones, x))\n",
    "\n",
    "#Outcome vector:\n",
    "Y = np.dot(X,β) + ε\n",
    "\n",
    "#OLS benchmark:\n",
    "bhat_ols = np.dot(np.linalg.inv(np.dot(X.T,X)), np.dot(X.T, Y))\n",
    "\n",
    "#2sls comparison:\n",
    "Zt_Z = np.dot(Z.T, Z)\n",
    "Zt_Z_inv = np.linalg.inv(Zt_Z)\n",
    "pz = np.dot(np.dot(Z, Zt_Z_inv), Z.T)\n",
    "proj_x = np.dot(pz, X)\n",
    "first = np.linalg.inv(np.dot(proj_x.T, X))\n",
    "second = np.dot(proj_x.T, Y)\n",
    "bhat_2sls = np.dot(first, second)\n",
    "\n",
    "\n",
    "jive1 = JIVE1(Y,X[:,1],Z[:,1],talk=False)\n",
    "jive2 = JIVE2(Y,X[:,1],Z[:,1],talk=False)\n",
    "\n",
    "# Combine matrices into a single DataFrame\n",
    "df = pd.DataFrame({\n",
    "    \"Y\": Y,  # Outcome vector\n",
    "    **{f\"X{i}\": X[:, i] for i in range(X.shape[1])},  # Endogenous variables\n",
    "    **{f\"Z{i}\": Z[:, i] for i in range(Z.shape[1])}   # Instrumental variables\n",
    "})\n",
    "\n",
    "# Save the DataFrame to a CSV file\n",
    "df.to_csv('data.csv', index=False)\n",
    "\n",
    "# Print the DataFrame to verify\n",
    "#print(df)\n",
    "\n",
    "\n",
    "#Compare them:\n",
    "print(\"OLS:\", bhat_ols[1])\n",
    "print(\"2SLS:\", bhat_2sls[1])\n",
    "print(\"Jive 1:\", jive1['beta'])\n",
    "print(\"Jive 2:\",jive2['beta'])"
   ]
  }
 ],
 "metadata": {
  "kernelspec": {
   "display_name": "myenv",
   "language": "python",
   "name": "python3"
  },
  "language_info": {
   "codemirror_mode": {
    "name": "ipython",
    "version": 3
   },
   "file_extension": ".py",
   "mimetype": "text/x-python",
   "name": "python",
   "nbconvert_exporter": "python",
   "pygments_lexer": "ipython3",
   "version": "3.13.3"
  }
 },
 "nbformat": 4,
 "nbformat_minor": 5
}
