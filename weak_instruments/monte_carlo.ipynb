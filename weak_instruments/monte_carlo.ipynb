{
 "cells": [
  {
   "cell_type": "markdown",
   "id": "18d3099a",
   "metadata": {},
   "source": [
    "# Creating the data to test in STATA and Python"
   ]
  },
  {
   "cell_type": "code",
   "execution_count": 5,
   "id": "2cbb33d9",
   "metadata": {},
   "outputs": [
    {
     "name": "stderr",
     "output_type": "stream",
     "text": [
      "Normally this estimator is used when Z has more columns than X. In this case Z has 2 columns and X has 2 columns.\n"
     ]
    },
    {
     "name": "stdout",
     "output_type": "stream",
     "text": [
      "Z'Z is invertible\n",
      "Condition number of Z.T @ Z: 1.047894853021826\n",
      "OLS: 14.594452077053553\n",
      "2SLS: 1.5193036902029196\n"
     ]
    }
   ],
   "source": [
    "import warnings\n",
    "warnings.filterwarnings(\"ignore\") # I suppressed the warnings to make it easier to read, we should still try to fix them\n",
    "import numpy as np\n",
    "import pandas as pd\n",
    "from ujive1 import *\n",
    "from ujive2 import *\n",
    "from tsls import * \n",
    "\n",
    "#Pick a vector length:\n",
    "n = 1000\n",
    "\n",
    "#Getting our Z's and making a Z matrix:\n",
    "Z = np.random.randn(n, 1)\n",
    "column_of_ones = np.ones((Z.shape[0], 1))\n",
    "Z = np.hstack((column_of_ones, Z))\n",
    "#pprint(Z)\n",
    "\n",
    "#Parameter vectors:\n",
    "α = np.array([1,1])\n",
    "β = np.array([1,2])\n",
    "#pprint(α)\n",
    "#pprint(β)\n",
    "\n",
    "#Error terms:\n",
    "e1 = np.random.normal(0,5,n)\n",
    "e2 = np.random.normal(0,5,n)\n",
    "δ = np.random.normal(0,1)\n",
    "ε = 5*e1 - 5*e2 + δ\n",
    "\n",
    "#Making our endogenous variable:\n",
    "x = np.dot(Z,α) + .2*e1\n",
    "X = np.column_stack((column_of_ones, x))\n",
    "#pprint(X)\n",
    "\n",
    "#Outcome vector:\n",
    "Y = np.dot(X,β) + ε\n",
    "\n",
    "#OLS benchmark:\n",
    "bhat_ols = np.dot(np.linalg.inv(np.dot(X.T,X)), np.dot(X.T, Y))\n",
    "\n",
    "# Check to see if the Z'Z matrix is invertible\n",
    "if np.linalg.matrix_rank(Z.T @ Z) == Z.shape[1]:  # Should be True\n",
    "    print(\"Z'Z is invertible\")\n",
    "else:\n",
    "    print(\"Z'Z is not invertible\")\n",
    "\n",
    "cond_number = np.linalg.cond(Z.T @ Z)\n",
    "print(f\"Condition number of Z.T @ Z: {cond_number}\")\n",
    "if cond_number > 1e10:  # Threshold for ill-conditioning\n",
    "    raise ValueError(\"Z.T @ Z is ill-conditioned and may cause numerical instability.\")\n",
    "\n",
    "\n",
    "#2sls comparison:\n",
    "Zt_Z = np.dot(Z.T, Z)\n",
    "Zt_Z_inv = np.linalg.inv(Zt_Z)\n",
    "pz = np.dot(np.dot(Z, Zt_Z_inv), Z.T)\n",
    "proj_x = np.dot(pz, X)\n",
    "first = np.linalg.inv(np.dot(proj_x.T, X))\n",
    "second = np.dot(proj_x.T, Y)\n",
    "bhat_2sls = np.dot(first, second)\n",
    "\n",
    "\n",
    "ujive1 = UJIVE1(Y,X,Z,talk=False)\n",
    "ujive2 = UJIVE2(Y,X,Z,talk=False)\n",
    "tsls = TSLS(Y,X,Z, talk=False)\n",
    "\n",
    "# Combine matrices into a single DataFrame\n",
    "df = pd.DataFrame({\n",
    "    \"Y\": Y,  # Outcome vector\n",
    "    **{f\"X{i}\": X[:, i] for i in range(X.shape[1])},  # Endogenous variables\n",
    "    **{f\"Z{i}\": Z[:, i] for i in range(Z.shape[1])}   # Instrumental variables\n",
    "})\n",
    "\n",
    "# Save the DataFrame to a CSV file\n",
    "df.to_csv('data.csv', index=False)\n",
    "\n",
    "#Compare them:\n",
    "print(\"OLS:\", bhat_ols[1])\n",
    "print(\"2SLS:\", bhat_2sls[1])"
   ]
  },
  {
   "cell_type": "code",
   "execution_count": 6,
   "id": "3cf8bd7a",
   "metadata": {},
   "outputs": [
    {
     "name": "stdout",
     "output_type": "stream",
     "text": [
      "\n",
      "UJIVE1 Regression Results\n",
      "================================================================================\n",
      " Coefficient  Std. Error   t-stat    P>|t|  Conf. Int. Low  Conf. Int. High\n",
      "    1.854067    1.725258 1.074661 0.282786       -1.531482         5.239616\n",
      "    1.461718    1.254936 1.164775 0.244388       -1.000898         3.924333\n",
      "--------------------------------------------------------------------------------\n",
      "R-squared: 0.058766\n",
      "Adjusted R-squared: 0.057823\n",
      "F-statistic: 3.284886\n",
      "Root MSE: 34.945788\n",
      "================================================================================\n",
      "None\n"
     ]
    }
   ],
   "source": [
    "print(ujive1.summary())"
   ]
  },
  {
   "cell_type": "code",
   "execution_count": 7,
   "id": "dbba9ef3",
   "metadata": {},
   "outputs": [
    {
     "name": "stdout",
     "output_type": "stream",
     "text": [
      "\n",
      "UJIVE2 Regression Results\n",
      "================================================================================\n",
      " Coefficient  Std. Error   t-stat    P>|t|  Conf. Int. Low  Conf. Int. High\n",
      "    1.859003    1.725034 1.077661 0.281445       -1.526108         5.244113\n",
      "    1.456891    1.254328 1.161492 0.245720       -1.004531         3.918313\n",
      "--------------------------------------------------------------------------------\n",
      "R-squared: 0.058583\n",
      "Adjusted R-squared: 0.057639\n",
      "F-statistic: 3.262591\n",
      "Root MSE: 34.949201\n",
      "================================================================================\n",
      "None\n"
     ]
    }
   ],
   "source": [
    "print(ujive2.summary())"
   ]
  },
  {
   "cell_type": "code",
   "execution_count": 8,
   "id": "739d2275",
   "metadata": {},
   "outputs": [
    {
     "name": "stdout",
     "output_type": "stream",
     "text": [
      "\n",
      "TSLS Regression Results\n",
      "================================================================================\n",
      " Coefficient  Std. Error   t-stat    P>|t|  Conf. Int. Low  Conf. Int. High\n",
      "    0.897589    0.860360 1.043271 0.297076       -0.790736         2.585913\n",
      "    0.897589    0.860360 1.043271 0.297076       -0.790736         2.585913\n",
      "    1.519304    1.250453 1.215003 0.224653       -0.934518         3.973125\n",
      "--------------------------------------------------------------------------------\n",
      "R-squared: 0.060955\n",
      "Adjusted R-squared: 0.059071\n",
      "F-statistic: 1.776757\n",
      "Root MSE: 34.922641\n",
      "================================================================================\n",
      "None\n"
     ]
    }
   ],
   "source": [
    "print(tsls.summary())"
   ]
  },
  {
   "cell_type": "code",
   "execution_count": 9,
   "id": "504bfa2d",
   "metadata": {},
   "outputs": [
    {
     "data": {
      "text/plain": [
       "array([[ 0.00100292, -0.00043674],\n",
       "       [ 0.00100737, -0.00110145],\n",
       "       [ 0.00101286, -0.0019215 ],\n",
       "       ...,\n",
       "       [ 0.00099508,  0.00073497],\n",
       "       [ 0.00099735,  0.00039566],\n",
       "       [ 0.0010059 , -0.00088094]], shape=(1000, 2))"
      ]
     },
     "execution_count": 9,
     "metadata": {},
     "output_type": "execute_result"
    }
   ],
   "source": [
    "(Z @ np.linalg.inv(np.dot(Z.T,Z)))"
   ]
  },
  {
   "cell_type": "code",
   "execution_count": 10,
   "id": "458b0c5b",
   "metadata": {},
   "outputs": [
    {
     "data": {
      "text/plain": [
       "array([[ 0.00118239,  0.00145998,  0.00180245, ...,  0.00069307,\n",
       "         0.00083477,  0.00136789],\n",
       "       [ 0.00145998,  0.00216006,  0.00302374, ...,  0.00022593,\n",
       "         0.00058329,  0.00192781],\n",
       "       [ 0.00180245,  0.00302374,  0.00453046, ..., -0.00035039,\n",
       "         0.00027303,  0.00261859],\n",
       "       ...,\n",
       "       [ 0.00069307,  0.00022593, -0.00035039, ...,  0.00151652,\n",
       "         0.00127806,  0.0003809 ],\n",
       "       [ 0.00083477,  0.00058329,  0.00027303, ...,  0.00127806,\n",
       "         0.00114969,  0.00066671],\n",
       "       [ 0.00136789,  0.00192781,  0.00261859, ...,  0.0003809 ,\n",
       "         0.00066671,  0.00174206]], shape=(1000, 1000))"
      ]
     },
     "execution_count": 10,
     "metadata": {},
     "output_type": "execute_result"
    }
   ],
   "source": [
    "(Z @ np.linalg.pinv(np.dot(Z.T,Z))) @ Z.T"
   ]
  },
  {
   "cell_type": "code",
   "execution_count": null,
   "id": "893438e7",
   "metadata": {},
   "outputs": [],
   "source": []
  }
 ],
 "metadata": {
  "kernelspec": {
   "display_name": "myenv",
   "language": "python",
   "name": "python3"
  },
  "language_info": {
   "codemirror_mode": {
    "name": "ipython",
    "version": 3
   },
   "file_extension": ".py",
   "mimetype": "text/x-python",
   "name": "python",
   "nbconvert_exporter": "python",
   "pygments_lexer": "ipython3",
   "version": "3.13.3"
  }
 },
 "nbformat": 4,
 "nbformat_minor": 5
}
