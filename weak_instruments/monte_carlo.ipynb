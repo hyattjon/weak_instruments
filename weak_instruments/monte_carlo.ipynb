{
 "cells": [
  {
   "cell_type": "markdown",
   "id": "18d3099a",
   "metadata": {},
   "source": [
    "# Creating the data to test in STATA and Python"
   ]
  },
  {
   "cell_type": "code",
   "execution_count": 1,
   "id": "2cbb33d9",
   "metadata": {},
   "outputs": [
    {
     "name": "stderr",
     "output_type": "stream",
     "text": [
      "Normally this estimator is used when Z has more columns than X. In this case Z has 2 columns and X has 2 columns.\n"
     ]
    },
    {
     "name": "stdout",
     "output_type": "stream",
     "text": [
      "Z'Z is invertible\n",
      "Condition number of Z.T @ Z: 1.050409824061365\n",
      "OLS: 13.912847917014005\n",
      "2SLS: 2.146124102422597\n",
      "\n",
      "UJIVE1 Regression Results\n",
      "================================================================================\n",
      " Coefficient  Std. Error    t-stat    P>|t|  Conf. Int. Low  Conf. Int. High\n",
      "   -1.004868    1.550417 -0.648127 0.517052       -4.047318         2.037583\n",
      "    2.098025    1.097458  1.911713 0.056199       -0.055566         4.251616\n",
      "--------------------------------------------------------------------------------\n",
      "R-squared: 0.083486\n",
      "Adjusted R-squared: 0.082567\n",
      "F-statistic: 7.413349\n",
      "Root MSE: 34.549771\n",
      "================================================================================\n",
      "None\n",
      "\n",
      "UJIVE2 Regression Results\n",
      "================================================================================\n",
      " Coefficient  Std. Error    t-stat    P>|t|  Conf. Int. Low  Conf. Int. High\n",
      "   -1.008310    1.550372 -0.650367 0.515605       -4.050673         2.034052\n",
      "    2.101385    1.097405  1.914867 0.055795       -0.052102         4.254872\n",
      "--------------------------------------------------------------------------------\n",
      "R-squared: 0.083609\n",
      "Adjusted R-squared: 0.082690\n",
      "F-statistic: 7.438109\n",
      "Root MSE: 34.547456\n",
      "================================================================================\n",
      "None\n"
     ]
    }
   ],
   "source": [
    "import warnings\n",
    "warnings.filterwarnings(\"ignore\") # I suppressed the warnings to make it easier to read, we should still try to fix them\n",
    "import numpy as np\n",
    "import pandas as pd\n",
    "from ujive1 import *\n",
    "from ujive2 import *\n",
    "from tsls import * \n",
    "\n",
    "#Pick a vector length:\n",
    "n = 1000\n",
    "\n",
    "#Getting our Z's and making a Z matrix:\n",
    "Z = np.random.randn(n, 1)\n",
    "column_of_ones = np.ones((Z.shape[0], 1))\n",
    "Z = np.hstack((column_of_ones, Z))\n",
    "#pprint(Z)\n",
    "\n",
    "#Parameter vectors:\n",
    "α = np.array([1,1])\n",
    "β = np.array([1,2])\n",
    "#pprint(α)\n",
    "#pprint(β)\n",
    "\n",
    "#Error terms:\n",
    "e1 = np.random.normal(0,5,n)\n",
    "e2 = np.random.normal(0,5,n)\n",
    "δ = np.random.normal(0,1)\n",
    "ε = 5*e1 - 5*e2 + δ\n",
    "\n",
    "#Making our endogenous variable:\n",
    "x = np.dot(Z,α) + .2*e1\n",
    "X = np.column_stack((column_of_ones, x))\n",
    "#pprint(X)\n",
    "\n",
    "#Outcome vector:\n",
    "Y = np.dot(X,β) + ε\n",
    "\n",
    "#OLS benchmark:\n",
    "bhat_ols = np.dot(np.linalg.inv(np.dot(X.T,X)), np.dot(X.T, Y))\n",
    "\n",
    "# Check to see if the Z'Z matrix is invertible\n",
    "if np.linalg.matrix_rank(Z.T @ Z) == Z.shape[1]:  # Should be True\n",
    "    print(\"Z'Z is invertible\")\n",
    "else:\n",
    "    print(\"Z'Z is not invertible\")\n",
    "\n",
    "cond_number = np.linalg.cond(Z.T @ Z)\n",
    "print(f\"Condition number of Z.T @ Z: {cond_number}\")\n",
    "if cond_number > 1e10:  # Threshold for ill-conditioning\n",
    "    raise ValueError(\"Z.T @ Z is ill-conditioned and may cause numerical instability.\")\n",
    "\n",
    "\n",
    "#2sls comparison:\n",
    "Zt_Z = np.dot(Z.T, Z)\n",
    "Zt_Z_inv = np.linalg.inv(Zt_Z)\n",
    "pz = np.dot(np.dot(Z, Zt_Z_inv), Z.T)\n",
    "proj_x = np.dot(pz, X)\n",
    "first = np.linalg.inv(np.dot(proj_x.T, X))\n",
    "second = np.dot(proj_x.T, Y)\n",
    "bhat_2sls = np.dot(first, second)\n",
    "\n",
    "\n",
    "ujive1 = UJIVE1(Y,X,Z,talk=False)\n",
    "ujive2 = UJIVE2(Y,X,Z,talk=False)\n",
    "#tsls = TSLS(Y,X,Z)\n",
    "\n",
    "# Combine matrices into a single DataFrame\n",
    "df = pd.DataFrame({\n",
    "    \"Y\": Y,  # Outcome vector\n",
    "    **{f\"X{i}\": X[:, i] for i in range(X.shape[1])},  # Endogenous variables\n",
    "    **{f\"Z{i}\": Z[:, i] for i in range(Z.shape[1])}   # Instrumental variables\n",
    "})\n",
    "\n",
    "# Save the DataFrame to a CSV file\n",
    "df.to_csv('data.csv', index=False)\n",
    "\n",
    "#Compare them:\n",
    "print(\"OLS:\", bhat_ols[1])\n",
    "print(\"2SLS:\", bhat_2sls[1])\n",
    "#print(\"Jive 1:\", ujive1['beta'])\n",
    "print(ujive1.summary())\n",
    "#print(\"Jive 2:\",ujive2['beta'])\n",
    "print(ujive2.summary())"
   ]
  },
  {
   "cell_type": "code",
   "execution_count": 2,
   "id": "504bfa2d",
   "metadata": {},
   "outputs": [
    {
     "data": {
      "text/plain": [
       "array([[ 0.00099394, -0.00086954],\n",
       "       [ 0.00100659,  0.00094523],\n",
       "       [ 0.00100996,  0.00142938],\n",
       "       ...,\n",
       "       [ 0.00100114,  0.00016376],\n",
       "       [ 0.00099215, -0.00112617],\n",
       "       [ 0.00098985, -0.00145629]], shape=(1000, 2))"
      ]
     },
     "execution_count": 2,
     "metadata": {},
     "output_type": "execute_result"
    }
   ],
   "source": [
    "(Z @ np.linalg.inv(np.dot(Z.T,Z)))"
   ]
  },
  {
   "cell_type": "code",
   "execution_count": 3,
   "id": "458b0c5b",
   "metadata": {},
   "outputs": [
    {
     "data": {
      "text/plain": [
       "array([[ 0.00179265,  0.00013835, -0.00030298, ...,  0.00085072,\n",
       "         0.00202659,  0.00232752],\n",
       "       [ 0.00013835,  0.00193665,  0.0024164 , ...,  0.00116228,\n",
       "        -0.00011595, -0.00044308],\n",
       "       [-0.00030298,  0.0024164 ,  0.00314189, ...,  0.0012454 ,\n",
       "        -0.00068754, -0.00118222],\n",
       "       ...,\n",
       "       [ 0.00085072,  0.00116228,  0.0012454 , ...,  0.00102812,\n",
       "         0.00080666,  0.00074998],\n",
       "       [ 0.00202659, -0.00011595, -0.00068754, ...,  0.00080666,\n",
       "         0.00232957,  0.00271932],\n",
       "       [ 0.00232752, -0.00044308, -0.00118222, ...,  0.00074998,\n",
       "         0.00271932,  0.00322332]], shape=(1000, 1000))"
      ]
     },
     "execution_count": 3,
     "metadata": {},
     "output_type": "execute_result"
    }
   ],
   "source": [
    "(Z @ np.linalg.pinv(np.dot(Z.T,Z))) @ Z.T"
   ]
  },
  {
   "cell_type": "code",
   "execution_count": null,
   "id": "893438e7",
   "metadata": {},
   "outputs": [],
   "source": []
  }
 ],
 "metadata": {
  "kernelspec": {
   "display_name": "myenv",
   "language": "python",
   "name": "python3"
  },
  "language_info": {
   "codemirror_mode": {
    "name": "ipython",
    "version": 3
   },
   "file_extension": ".py",
   "mimetype": "text/x-python",
   "name": "python",
   "nbconvert_exporter": "python",
   "pygments_lexer": "ipython3",
   "version": "3.13.3"
  }
 },
 "nbformat": 4,
 "nbformat_minor": 5
}
