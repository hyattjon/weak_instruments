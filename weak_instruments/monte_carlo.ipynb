{
 "cells": [
  {
   "cell_type": "markdown",
   "id": "18d3099a",
   "metadata": {},
   "source": [
    "# Creating the data to test in STATA and Python"
   ]
  },
  {
   "cell_type": "code",
   "execution_count": 14,
   "id": "2cbb33d9",
   "metadata": {},
   "outputs": [
    {
     "name": "stderr",
     "output_type": "stream",
     "text": [
      "Normally this estimator is used when Z has more columns than X. In this case Z has 2 columns and X has 2 columns.\n"
     ]
    },
    {
     "name": "stdout",
     "output_type": "stream",
     "text": [
      "Z'Z is invertible\n",
      "Condition number of Z.T @ Z: 1.0500438905905647\n",
      "OLS: 14.041014363509797\n",
      "2SLS: 1.1892218628395628\n",
      "\n",
      "UJIVE1 Regression Results\n",
      "================================================================================\n",
      " Coefficient  Std. Error   t-stat    P>|t|  Conf. Int. Low  Conf. Int. High\n",
      "    1.068765    1.571247 0.680202 0.496534       -2.014561         4.152092\n",
      "    1.136565    1.163602 0.680202 0.496534       -1.146822         3.419952\n",
      "--------------------------------------------------------------------------------\n",
      "R-squared: 0.045181\n",
      "Adjusted R-squared: 0.044224\n",
      "F-statistic: 1.991932\n",
      "Root MSE: 35.546944\n",
      "================================================================================\n",
      "None\n",
      "\n",
      "UJIVE2 Regression Results\n",
      "================================================================================\n",
      " Coefficient  Std. Error  t-stat    P>|t|  Conf. Int. Low  Conf. Int. High\n",
      "    1.064228    1.571281  0.6773 0.498373       -2.019166         4.147622\n",
      "    1.141142    1.163826  0.6773 0.498373       -1.142685         3.424969\n",
      "--------------------------------------------------------------------------------\n",
      "R-squared: 0.045355\n",
      "Adjusted R-squared: 0.044399\n",
      "F-statistic: 2.008375\n",
      "Root MSE: 35.543700\n",
      "================================================================================\n",
      "None\n"
     ]
    }
   ],
   "source": [
    "import warnings\n",
    "warnings.filterwarnings(\"ignore\") # I suppressed the warnings to make it easier to read, we should still try to fix them\n",
    "import numpy as np\n",
    "import pandas as pd\n",
    "from ujive1 import *\n",
    "from ujive2 import *\n",
    "from tsls import * \n",
    "\n",
    "#Pick a vector length:\n",
    "n = 1000\n",
    "\n",
    "#Getting our Z's and making a Z matrix:\n",
    "Z = np.random.randn(n, 1)\n",
    "column_of_ones = np.ones((Z.shape[0], 1))\n",
    "Z = np.hstack((column_of_ones, Z))\n",
    "#pprint(Z)\n",
    "\n",
    "#Parameter vectors:\n",
    "α = np.array([1,1])\n",
    "β = np.array([1,2])\n",
    "#pprint(α)\n",
    "#pprint(β)\n",
    "\n",
    "#Error terms:\n",
    "e1 = np.random.normal(0,5,n)\n",
    "e2 = np.random.normal(0,5,n)\n",
    "δ = np.random.normal(0,1)\n",
    "ε = 5*e1 - 5*e2 + δ\n",
    "\n",
    "#Making our endogenous variable:\n",
    "x = np.dot(Z,α) + .2*e1\n",
    "X = np.column_stack((column_of_ones, x))\n",
    "#pprint(X)\n",
    "\n",
    "#Outcome vector:\n",
    "Y = np.dot(X,β) + ε\n",
    "\n",
    "#OLS benchmark:\n",
    "bhat_ols = np.dot(np.linalg.inv(np.dot(X.T,X)), np.dot(X.T, Y))\n",
    "\n",
    "# Check to see if the Z'Z matrix is invertible\n",
    "if np.linalg.matrix_rank(Z.T @ Z) == Z.shape[1]:  # Should be True\n",
    "    print(\"Z'Z is invertible\")\n",
    "else:\n",
    "    print(\"Z'Z is not invertible\")\n",
    "\n",
    "cond_number = np.linalg.cond(Z.T @ Z)\n",
    "print(f\"Condition number of Z.T @ Z: {cond_number}\")\n",
    "if cond_number > 1e10:  # Threshold for ill-conditioning\n",
    "    raise ValueError(\"Z.T @ Z is ill-conditioned and may cause numerical instability.\")\n",
    "\n",
    "\n",
    "#2sls comparison:\n",
    "Zt_Z = np.dot(Z.T, Z)\n",
    "Zt_Z_inv = np.linalg.inv(Zt_Z)\n",
    "pz = np.dot(np.dot(Z, Zt_Z_inv), Z.T)\n",
    "proj_x = np.dot(pz, X)\n",
    "first = np.linalg.inv(np.dot(proj_x.T, X))\n",
    "second = np.dot(proj_x.T, Y)\n",
    "bhat_2sls = np.dot(first, second)\n",
    "\n",
    "\n",
    "ujive1 = UJIVE1(Y,X,Z,talk=False)\n",
    "ujive2 = UJIVE2(Y,X,Z,talk=False)\n",
    "#tsls = TSLS(Y,X,Z)\n",
    "\n",
    "# Combine matrices into a single DataFrame\n",
    "df = pd.DataFrame({\n",
    "    \"Y\": Y,  # Outcome vector\n",
    "    **{f\"X{i}\": X[:, i] for i in range(X.shape[1])},  # Endogenous variables\n",
    "    **{f\"Z{i}\": Z[:, i] for i in range(Z.shape[1])}   # Instrumental variables\n",
    "})\n",
    "\n",
    "# Save the DataFrame to a CSV file\n",
    "df.to_csv('data.csv', index=False)\n",
    "\n",
    "#Compare them:\n",
    "print(\"OLS:\", bhat_ols[1])\n",
    "print(\"2SLS:\", bhat_2sls[1])\n",
    "#print(\"Jive 1:\", ujive1['beta'])\n",
    "print(ujive1.summary())\n",
    "#print(\"Jive 2:\",ujive2['beta'])\n",
    "print(ujive2.summary())"
   ]
  },
  {
   "cell_type": "code",
   "execution_count": 7,
   "id": "504bfa2d",
   "metadata": {},
   "outputs": [
    {
     "data": {
      "text/plain": [
       "array([[ 0.00100136, -0.00104589],\n",
       "       [ 0.0010009 , -0.00069287],\n",
       "       [ 0.00099984,  0.00012111],\n",
       "       ...,\n",
       "       [ 0.00100183, -0.00140459],\n",
       "       [ 0.00099925,  0.00057684],\n",
       "       [ 0.00100163, -0.00125753]], shape=(1000, 2))"
      ]
     },
     "execution_count": 7,
     "metadata": {},
     "output_type": "execute_result"
    }
   ],
   "source": [
    "(Z @ np.linalg.inv(np.dot(Z.T,Z)))"
   ]
  },
  {
   "cell_type": "code",
   "execution_count": 9,
   "id": "458b0c5b",
   "metadata": {},
   "outputs": [
    {
     "name": "stderr",
     "output_type": "stream",
     "text": [
      "/var/folders/56/826nnkqj62x3f69z9wt21fmr0000gn/T/ipykernel_3379/1661977985.py:1: RuntimeWarning: divide by zero encountered in matmul\n",
      "  (Z @ np.linalg.pinv(np.dot(Z.T,Z))) @ Z.T\n",
      "/var/folders/56/826nnkqj62x3f69z9wt21fmr0000gn/T/ipykernel_3379/1661977985.py:1: RuntimeWarning: overflow encountered in matmul\n",
      "  (Z @ np.linalg.pinv(np.dot(Z.T,Z))) @ Z.T\n",
      "/var/folders/56/826nnkqj62x3f69z9wt21fmr0000gn/T/ipykernel_3379/1661977985.py:1: RuntimeWarning: invalid value encountered in matmul\n",
      "  (Z @ np.linalg.pinv(np.dot(Z.T,Z))) @ Z.T\n"
     ]
    },
    {
     "data": {
      "text/plain": [
       "array([[0.0021327 , 0.00175037, 0.00086884, ..., 0.00252116, 0.00037529,\n",
       "        0.0023619 ],\n",
       "       [0.00175037, 0.00149709, 0.00091311, ..., 0.00200772, 0.00058615,\n",
       "        0.00190221],\n",
       "       [0.00086884, 0.00091311, 0.00101519, ..., 0.00082386, 0.00107234,\n",
       "        0.0008423 ],\n",
       "       ...,\n",
       "       [0.00252116, 0.00200772, 0.00082386, ..., 0.00304285, 0.00016104,\n",
       "        0.00282897],\n",
       "       [0.00037529, 0.00058615, 0.00107234, ..., 0.00016104, 0.00134455,\n",
       "        0.00024888],\n",
       "       [0.0023619 , 0.00190221, 0.0008423 , ..., 0.00282897, 0.00024888,\n",
       "        0.00263748]], shape=(1000, 1000))"
      ]
     },
     "execution_count": 9,
     "metadata": {},
     "output_type": "execute_result"
    }
   ],
   "source": [
    "(Z @ np.linalg.pinv(np.dot(Z.T,Z))) @ Z.T"
   ]
  },
  {
   "cell_type": "code",
   "execution_count": null,
   "id": "893438e7",
   "metadata": {},
   "outputs": [],
   "source": []
  }
 ],
 "metadata": {
  "kernelspec": {
   "display_name": "myenv",
   "language": "python",
   "name": "python3"
  },
  "language_info": {
   "codemirror_mode": {
    "name": "ipython",
    "version": 3
   },
   "file_extension": ".py",
   "mimetype": "text/x-python",
   "name": "python",
   "nbconvert_exporter": "python",
   "pygments_lexer": "ipython3",
   "version": "3.13.3"
  }
 },
 "nbformat": 4,
 "nbformat_minor": 5
}
